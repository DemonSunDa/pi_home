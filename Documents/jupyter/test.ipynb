{
 "cells": [
  {
   "cell_type": "markdown",
   "id": "fcbe36f5",
   "metadata": {},
   "source": [
    "# This is a TEST\n"
   ]
  },
  {
   "cell_type": "code",
   "execution_count": null,
   "id": "a5a758b2",
   "metadata": {},
   "outputs": [],
   "source": [
    "print(\"HELLO!\")\n"
   ]
  }
 ],
 "metadata": {
  "kernelspec": {
   "display_name": "exp",
   "language": "python",
   "name": "python3"
  },
  "language_info": {
   "name": "python",
   "version": "3.13.7"
  }
 },
 "nbformat": 4,
 "nbformat_minor": 5
}
